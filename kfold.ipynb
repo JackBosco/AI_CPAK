{
 "cells": [
  {
   "cell_type": "markdown",
   "metadata": {},
   "source": [
    "# K-Fold Cross Validation Test\n",
    "\n",
    "---\n",
    "\n",
    "Documenting a 10 - fold cross validation test for the NYU Model with an MLP architecture"
   ]
  },
  {
   "cell_type": "code",
   "execution_count": 1,
   "metadata": {},
   "outputs": [
    {
     "name": "stdout",
     "output_type": "stream",
     "text": [
      "========================================\n",
      "Training fold 1, test size: 53, train size: 477\n",
      "Mean Squared Error for testing data: 1.0489758074404987\n",
      "R2 Score for testing data: 0.4678930251282818\n",
      "========================================\n",
      "========================================\n",
      "Training fold 2, test size: 53, train size: 477\n",
      "Mean Squared Error for testing data: 0.9928429087971172\n",
      "R2 Score for testing data: 0.38790792716112477\n",
      "========================================\n",
      "========================================\n",
      "Training fold 3, test size: 53, train size: 477\n",
      "Mean Squared Error for testing data: 1.3571826152111153\n",
      "R2 Score for testing data: 0.4341955663255894\n",
      "========================================\n",
      "========================================\n",
      "Training fold 4, test size: 53, train size: 477\n",
      "Mean Squared Error for testing data: 1.1101561636589827\n",
      "R2 Score for testing data: 0.30417861076066316\n",
      "========================================\n",
      "========================================\n",
      "Training fold 5, test size: 53, train size: 477\n",
      "Mean Squared Error for testing data: 1.3933916212459345\n",
      "R2 Score for testing data: 0.21171503547310266\n",
      "========================================\n",
      "========================================\n",
      "Training fold 6, test size: 53, train size: 477\n",
      "Mean Squared Error for testing data: 1.2786807919748893\n",
      "R2 Score for testing data: 0.3825286544297924\n",
      "========================================\n",
      "========================================\n",
      "Training fold 7, test size: 53, train size: 477\n",
      "Mean Squared Error for testing data: 1.0659400676154687\n",
      "R2 Score for testing data: 0.4679177646964753\n",
      "========================================\n",
      "========================================\n",
      "Training fold 8, test size: 53, train size: 477\n",
      "Mean Squared Error for testing data: 1.275146525192235\n",
      "R2 Score for testing data: 0.3786595939159417\n",
      "========================================\n",
      "========================================\n",
      "Training fold 9, test size: 53, train size: 477\n",
      "Mean Squared Error for testing data: 1.3571200759441537\n",
      "R2 Score for testing data: 0.35675530547463064\n",
      "========================================\n",
      "========================================\n",
      "Training fold 10, test size: 53, train size: 477\n",
      "Mean Squared Error for testing data: 1.044408246845609\n",
      "R2 Score for testing data: 0.3785536216197194\n",
      "========================================\n",
      "********** Results **********\n",
      "Average Mean Squared Error: 1.1923844823926006\n",
      "Average R2 Score: 0.37703051049853215\n"
     ]
    }
   ],
   "source": [
    "from regression import do_mlp\n",
    "\n",
    "do_mlp(train=False, kfolds=10, load=False)"
   ]
  }
 ],
 "metadata": {
  "kernelspec": {
   "display_name": "Python 3",
   "language": "python",
   "name": "python3"
  },
  "language_info": {
   "codemirror_mode": {
    "name": "ipython",
    "version": 3
   },
   "file_extension": ".py",
   "mimetype": "text/x-python",
   "name": "python",
   "nbconvert_exporter": "python",
   "pygments_lexer": "ipython3",
   "version": "3.10.5"
  }
 },
 "nbformat": 4,
 "nbformat_minor": 2
}
